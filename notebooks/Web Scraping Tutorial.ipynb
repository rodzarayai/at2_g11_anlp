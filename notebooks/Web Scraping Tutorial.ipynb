{
  "cells": [
    {
      "cell_type": "markdown",
      "source": [
        "# Web Scraping - www.Indeed.com"
      ],
      "metadata": {
        "id": "-jOUlsaSv0z-"
      }
    },
    {
      "cell_type": "markdown",
      "source": [
        "- Dowload file .py\n",
        "- Import requirement.txt in Terminal Promt\n",
        "\n",
        "\n",
        "\n"
      ],
      "metadata": {
        "id": "Vrbux5IExDec"
      }
    },
    {
      "cell_type": "code",
      "source": [
        "# Open Terminal\n",
        "conda activate job_scraper\n",
        "python indeed_scraper.py\n"
      ],
      "metadata": {
        "id": "63PQC9mgwN3r"
      },
      "execution_count": null,
      "outputs": []
    },
    {
      "cell_type": "code",
      "source": [
        "# Setting Web Driver\n",
        "\n",
        "# If user use Firefox\n",
        "from selenium.webdriver.firefox.service import Service\n",
        "from selenium.webdriver.firefox.options import Options\n",
        "firefox_options = Options()\n",
        "firefox_options.binary_location = r\"C:\\Program Files\\Mozilla Firefox\\firefox.exe\"\n",
        "service = Service(executable_path=r\"path_to_geckodriver\")\n",
        "self.driver = webdriver.Firefox(service=service, options=firefox_options)\n",
        "\n",
        "# If user use Chrome\n",
        "from selenium.webdriver.chrome.service import Service\n",
        "from webdriver_manager.chrome import ChromeDriverManager\n",
        "from selenium.webdriver.chrome.options import Options\n",
        "chrome_options = Options()\n",
        "chrome_options.binary_location = r\"C:\\Program Files\\Google\\Chrome\\Application\\chrome.exe\"\n",
        "self.driver = webdriver.Chrome(service=Service(ChromeDriverManager().install()), options=chrome_options)\n",
        "\n"
      ],
      "metadata": {
        "id": "jrojbYXhwORM"
      },
      "execution_count": null,
      "outputs": []
    },
    {
      "cell_type": "code",
      "source": [
        "# Open Anaconda Prompt or Terminal Promt\n",
        "python indeed_scraper.py\n"
      ],
      "metadata": {
        "id": "8K10ZKV_wp-j"
      },
      "execution_count": null,
      "outputs": []
    }
  ],
  "metadata": {
    "colab": {
      "name": "Making the Most of your Colab Subscription",
      "provenance": []
    },
    "kernelspec": {
      "display_name": "Python 3",
      "name": "python3"
    }
  },
  "nbformat": 4,
  "nbformat_minor": 0
}