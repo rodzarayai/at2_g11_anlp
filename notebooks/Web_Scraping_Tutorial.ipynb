{
  "cells": [
    {
      "cell_type": "markdown",
      "source": [
        "# Web Scraping - www.Indeed.com"
      ],
      "metadata": {
        "id": "-jOUlsaSv0z-"
      }
    },
    {
      "cell_type": "markdown",
      "source": [
        "- Dowload file .py\n",
        "- Import requirement.txt in Terminal Promt\n",
        "\n",
        "\n",
        "\n"
      ],
      "metadata": {
        "id": "Vrbux5IExDec"
      }
    },
    {
      "cell_type": "code",
      "source": [],
      "metadata": {
        "id": "wdjjEn89RcJ2"
      },
      "execution_count": null,
      "outputs": []
    },
    {
      "cell_type": "markdown",
      "source": [
        "attrs==23.2.0\n",
        "beautifulsoup4==4.12.3\n",
        "certifi==2024.2.2\n",
        "cffi==1.16.0\n",
        "charset-normalizer==3.3.2\n",
        "exceptiongroup==1.2.1\n",
        "h11==0.14.0\n",
        "idna==3.7\n",
        "markdownify==0.12.1\n",
        "MouseInfo==0.1.3\n",
        "numpy==1.26.4\n",
        "outcome==1.3.0.post0\n",
        "packaging==24.0\n",
        "pandas==2.2.2\n",
        "pillow==10.3.0\n",
        "PyAutoGUI==0.9.54\n",
        "pycparser==2.22\n",
        "PyGetWindow==0.0.9\n",
        "PyMsgBox==1.0.9\n",
        "pyperclip==1.8.2\n",
        "PyRect==0.2.0\n",
        "PyScreeze==0.1.30\n",
        "PySocks==1.7.1\n",
        "python-dateutil==2.9.0.post0\n",
        "python-dotenv==1.0.1\n",
        "pytweening==1.2.0\n",
        "pytz==2024.1\n",
        "requests==2.31.0\n",
        "selenium==4.20.0\n",
        "six==1.16.0\n",
        "sniffio==1.3.1\n",
        "sortedcontainers==2.4.0\n",
        "soupsieve==2.5\n",
        "trio==0.25.0\n",
        "trio-websocket==0.11.1\n",
        "typing_extensions==4.11.0\n",
        "tzdata==2024.1\n",
        "urllib3==2.2.1\n",
        "webdriver-manager==4.0.1\n",
        "wsproto==1.2.0\n"
      ],
      "metadata": {
        "id": "aOFRtAglRaOq"
      }
    },
    {
      "cell_type": "code",
      "source": [
        "# Open Terminal\n",
        "conda activate job_scraper\n",
        "python indeed_scraper.py\n"
      ],
      "metadata": {
        "id": "63PQC9mgwN3r"
      },
      "execution_count": null,
      "outputs": []
    },
    {
      "cell_type": "code",
      "source": [
        "# Setting Web Driver\n",
        "\n",
        "# If user use Firefox\n",
        "from selenium.webdriver.firefox.service import Service\n",
        "from selenium.webdriver.firefox.options import Options\n",
        "firefox_options = Options()\n",
        "firefox_options.binary_location = r\"C:\\Program Files\\Mozilla Firefox\\firefox.exe\"\n",
        "service = Service(executable_path=r\"path_to_geckodriver\")\n",
        "self.driver = webdriver.Firefox(service=service, options=firefox_options)\n",
        "\n",
        "# If user use Chrome\n",
        "from selenium.webdriver.chrome.service import Service\n",
        "from webdriver_manager.chrome import ChromeDriverManager\n",
        "from selenium.webdriver.chrome.options import Options\n",
        "chrome_options = Options()\n",
        "chrome_options.binary_location = r\"C:\\Program Files\\Google\\Chrome\\Application\\chrome.exe\"\n",
        "self.driver = webdriver.Chrome(service=Service(ChromeDriverManager().install()), options=chrome_options)\n",
        "\n"
      ],
      "metadata": {
        "id": "jrojbYXhwORM"
      },
      "execution_count": null,
      "outputs": []
    },
    {
      "cell_type": "code",
      "source": [
        "# Open Anaconda Prompt or Terminal Promt\n",
        "python indeed_scraper.py\n"
      ],
      "metadata": {
        "id": "8K10ZKV_wp-j"
      },
      "execution_count": null,
      "outputs": []
    }
  ],
  "metadata": {
    "colab": {
      "provenance": []
    },
    "kernelspec": {
      "display_name": "Python 3",
      "name": "python3"
    }
  },
  "nbformat": 4,
  "nbformat_minor": 0
}