{
  "nbformat": 4,
  "nbformat_minor": 0,
  "metadata": {
    "colab": {
      "provenance": []
    },
    "kernelspec": {
      "name": "python3",
      "display_name": "Python 3"
    },
    "language_info": {
      "name": "python"
    }
  },
  "cells": [
    {
      "cell_type": "code",
      "execution_count": 11,
      "metadata": {
        "id": "IwaTvilegAYD"
      },
      "outputs": [],
      "source": [
        "import numpy as np\n",
        "import pandas as pd\n",
        "import re\n",
        "import requests\n",
        "from bs4 import BeautifulSoup\n",
        "import csv"
      ]
    },
    {
      "cell_type": "code",
      "source": [
        "link = \"https://realpython.github.io/fake-jobs/\"\n",
        "P_link = requests.get(link)\n",
        "print(P_link)\n",
        "\n",
        "P_html = P_link.text\n",
        "P_soup = BeautifulSoup(P_html, \"html.parser\")"
      ],
      "metadata": {
        "colab": {
          "base_uri": "https://localhost:8080/"
        },
        "id": "DWYV5vKXgT0-",
        "outputId": "308c1850-2cd7-44ab-dab0-52b4011de0ba"
      },
      "execution_count": 3,
      "outputs": [
        {
          "output_type": "stream",
          "name": "stdout",
          "text": [
            "<Response [200]>\n"
          ]
        }
      ]
    },
    {
      "cell_type": "code",
      "source": [
        "jobs = P_soup.find_all('div', class_='card-content')\n",
        "print(len(jobs))"
      ],
      "metadata": {
        "colab": {
          "base_uri": "https://localhost:8080/"
        },
        "id": "GmZ66SJqgkYE",
        "outputId": "0944f22b-c11d-484d-af4c-ec1b075bc235"
      },
      "execution_count": 5,
      "outputs": [
        {
          "output_type": "stream",
          "name": "stdout",
          "text": [
            "100\n"
          ]
        }
      ]
    },
    {
      "cell_type": "code",
      "source": [
        "job_list = []\n",
        "\n",
        "for job in jobs:\n",
        "    job_title = job.find('h2', class_='title').text.strip() #Get Job title\n",
        "    company_name = job.find('h3', class_='subtitle is-6 company').text.strip() #Get Company Name\n",
        "    location = job.find('p', class_='location').text.strip() #Get Location\n",
        "    time_posted = job.find('time')['datetime'] #Get Posted Time\n",
        "    apply_link = None # Get Link URL\n",
        "    links = job.find_all('a', class_='card-footer-item')\n",
        "    for link in links:\n",
        "        if link.text.strip() == 'Apply':\n",
        "            apply_link = link['href']\n",
        "            break\n",
        "    full_apply_link = apply_link\n",
        "    job_list.append((job_title, company_name, location, time_posted, full_apply_link))\n",
        "\n",
        "# Export csv\n",
        "csv_file = 'Webscraped_jobs.csv'\n",
        "with open(csv_file, mode='w', newline='', encoding='utf-8') as file:\n",
        "    writer = csv.writer(file)\n",
        "    writer.writerow(['Job Title', 'Company Name', 'Location', 'Time Posted', 'Apply URL'])\n",
        "    writer.writerows(job_list)\n"
      ],
      "metadata": {
        "id": "tTxUPs3Og2vQ"
      },
      "execution_count": 19,
      "outputs": []
    }
  ]
}